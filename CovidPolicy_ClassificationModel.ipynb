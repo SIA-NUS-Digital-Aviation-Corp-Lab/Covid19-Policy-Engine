{
  "nbformat": 4,
  "nbformat_minor": 0,
  "metadata": {
    "colab": {
      "provenance": []
    },
    "kernelspec": {
      "name": "python3",
      "display_name": "Python 3"
    },
    "language_info": {
      "name": "python"
    }
  },
  "cells": [
    {
      "cell_type": "code",
      "source": [
        "!pip install transformers\n",
        "!pip install Keras-Preprocessing"
      ],
      "metadata": {
        "colab": {
          "base_uri": "https://localhost:8080/"
        },
        "id": "VibnnZxOhxmq",
        "outputId": "97bb200f-2cde-48b6-ec6e-e5df3dd4456f"
      },
      "execution_count": 1,
      "outputs": [
        {
          "output_type": "stream",
          "name": "stdout",
          "text": [
            "Looking in indexes: https://pypi.org/simple, https://us-python.pkg.dev/colab-wheels/public/simple/\n",
            "Requirement already satisfied: transformers in /usr/local/lib/python3.8/dist-packages (4.26.1)\n",
            "Requirement already satisfied: tokenizers!=0.11.3,<0.14,>=0.11.1 in /usr/local/lib/python3.8/dist-packages (from transformers) (0.13.2)\n",
            "Requirement already satisfied: numpy>=1.17 in /usr/local/lib/python3.8/dist-packages (from transformers) (1.22.4)\n",
            "Requirement already satisfied: filelock in /usr/local/lib/python3.8/dist-packages (from transformers) (3.9.0)\n",
            "Requirement already satisfied: pyyaml>=5.1 in /usr/local/lib/python3.8/dist-packages (from transformers) (6.0)\n",
            "Requirement already satisfied: huggingface-hub<1.0,>=0.11.0 in /usr/local/lib/python3.8/dist-packages (from transformers) (0.12.1)\n",
            "Requirement already satisfied: requests in /usr/local/lib/python3.8/dist-packages (from transformers) (2.25.1)\n",
            "Requirement already satisfied: tqdm>=4.27 in /usr/local/lib/python3.8/dist-packages (from transformers) (4.64.1)\n",
            "Requirement already satisfied: packaging>=20.0 in /usr/local/lib/python3.8/dist-packages (from transformers) (23.0)\n",
            "Requirement already satisfied: regex!=2019.12.17 in /usr/local/lib/python3.8/dist-packages (from transformers) (2022.6.2)\n",
            "Requirement already satisfied: typing-extensions>=3.7.4.3 in /usr/local/lib/python3.8/dist-packages (from huggingface-hub<1.0,>=0.11.0->transformers) (4.5.0)\n",
            "Requirement already satisfied: urllib3<1.27,>=1.21.1 in /usr/local/lib/python3.8/dist-packages (from requests->transformers) (1.24.3)\n",
            "Requirement already satisfied: chardet<5,>=3.0.2 in /usr/local/lib/python3.8/dist-packages (from requests->transformers) (4.0.0)\n",
            "Requirement already satisfied: certifi>=2017.4.17 in /usr/local/lib/python3.8/dist-packages (from requests->transformers) (2022.12.7)\n",
            "Requirement already satisfied: idna<3,>=2.5 in /usr/local/lib/python3.8/dist-packages (from requests->transformers) (2.10)\n",
            "Looking in indexes: https://pypi.org/simple, https://us-python.pkg.dev/colab-wheels/public/simple/\n",
            "Requirement already satisfied: Keras-Preprocessing in /usr/local/lib/python3.8/dist-packages (1.1.2)\n",
            "Requirement already satisfied: numpy>=1.9.1 in /usr/local/lib/python3.8/dist-packages (from Keras-Preprocessing) (1.22.4)\n",
            "Requirement already satisfied: six>=1.9.0 in /usr/local/lib/python3.8/dist-packages (from Keras-Preprocessing) (1.15.0)\n"
          ]
        }
      ]
    },
    {
      "cell_type": "code",
      "source": [
        "!pip install sklearn"
      ],
      "metadata": {
        "colab": {
          "base_uri": "https://localhost:8080/"
        },
        "id": "Sn7Md5m37ptE",
        "outputId": "5e632c50-aec0-4642-81eb-0dff7c3c8a63"
      },
      "execution_count": 2,
      "outputs": [
        {
          "output_type": "stream",
          "name": "stdout",
          "text": [
            "Looking in indexes: https://pypi.org/simple, https://us-python.pkg.dev/colab-wheels/public/simple/\n",
            "Requirement already satisfied: sklearn in /usr/local/lib/python3.8/dist-packages (0.0.post1)\n"
          ]
        }
      ]
    },
    {
      "cell_type": "code",
      "execution_count": 5,
      "metadata": {
        "id": "xCNVtmdZg3Co"
      },
      "outputs": [],
      "source": [
        "\n",
        "#importing necessary libraries\n",
        "import pandas as pd\n",
        "import numpy as np\n",
        "import os\n",
        "import tensorflow as tf\n",
        "from tensorflow.keras.preprocessing.sequence import pad_sequences\n",
        "from tensorflow.keras.layers import Dense, Input, LSTM, Embedding, Dropout, Activation\n",
        "from tensorflow.keras.layers import Bidirectional, GlobalMaxPool1D\n",
        "from tensorflow.keras.models import Model, Sequential\n",
        "from tensorflow.keras.layers import Convolution1D\n",
        "from tensorflow.keras import initializers, regularizers, constraints, optimizers, layers\n",
        "from tensorflow.keras.callbacks import EarlyStopping\n",
        "import sklearn\n",
        "from sklearn.model_selection import train_test_split\n"
      ]
    },
    {
      "cell_type": "code",
      "source": [
        "#loading the dataset\n",
        "df = pd.read_csv('https://raw.githubusercontent.com/duttaaadhar/Covid-Policy-Tracker/main/final_clean_dataset.csv')\n",
        "data = df.drop(\"Flag\", axis='columns')\n",
        "data['Category'] = data['Category'].map({'C': 0, 'H': 1})\n",
        "print(data)"
      ],
      "metadata": {
        "colab": {
          "base_uri": "https://localhost:8080/"
        },
        "id": "gwX7UMvohTLY",
        "outputId": "f509ae7d-0d44-484e-ff46-f41b9b9cc541"
      },
      "execution_count": 6,
      "outputs": [
        {
          "output_type": "stream",
          "name": "stdout",
          "text": [
            "                                                  Policy  Category\n",
            "0       vietnam started reopening schools from 4 may ...         0\n",
            "1         in the coming two weeks university students...         0\n",
            "2        on august 16 the saudi arabian ministry of e...         0\n",
            "3         primary and middle schools and kindergarten...         0\n",
            "4         primary and middle schools in gansu provinc...         0\n",
            "...                                                  ...       ...\n",
            "65771  with effect from 11122020  am until 31122020  ...         1\n",
            "65772  with kanton obwalden all kantons have now impl...         1\n",
            "65773  with mtt2prt018 the ecuadorian government issu...         1\n",
            "65774  with the lifting of the soluthurn minilockdown...         1\n",
            "65775  yvon deschamps and veronique cloutier tv perso...         1\n",
            "\n",
            "[65776 rows x 2 columns]\n"
          ]
        }
      ]
    },
    {
      "cell_type": "code",
      "source": [
        "\n",
        "#tokenizing the text\n",
        "tokenizer = tf.keras.preprocessing.text.Tokenizer(num_words=5000)\n",
        "tokenizer.fit_on_texts(data['Policy'].values)\n",
        "X = tokenizer.texts_to_sequences(data['Policy'].values)\n",
        "X = pad_sequences(X, maxlen=100)\n"
      ],
      "metadata": {
        "id": "enRKyDiThaxC"
      },
      "execution_count": 10,
      "outputs": []
    },
    {
      "cell_type": "code",
      "source": [
        "\n",
        "#creating the model\n",
        "model = Sequential()\n",
        "model.add(Embedding(5000, 128, input_length=X.shape[1]))\n",
        "model.add(Bidirectional(LSTM(128, return_sequences=True)))\n",
        "model.add(GlobalMaxPool1D())\n",
        "model.add(Dense(20, activation=\"relu\"))\n",
        "model.add(Dropout(0.05))\n",
        "model.add(Dense(2, activation=\"softmax\"))\n",
        "model.compile(loss='binary_crossentropy', optimizer='adam', metrics=['accuracy'])\n"
      ],
      "metadata": {
        "id": "ThvQGsZMhc-i"
      },
      "execution_count": 11,
      "outputs": []
    },
    {
      "cell_type": "code",
      "source": [
        "\n",
        "#splitting the dataset into train and test sets\n",
        "Y = pd.get_dummies(data['Category']).values\n",
        "X_train, X_test, Y_train, Y_test = train_test_split(X,Y, test_size = 0.2, random_state = 42)\n"
      ],
      "metadata": {
        "id": "fKXheZeQwyFl"
      },
      "execution_count": 12,
      "outputs": []
    },
    {
      "cell_type": "code",
      "source": [
        "checkpoint_path = \"training_1/cp.ckpt\"\n",
        "checkpoint_dir = os.path.dirname(checkpoint_path)\n",
        "\n",
        "# Create a callback that saves the model's weights\n",
        "cp_callback = tf.keras.callbacks.ModelCheckpoint(filepath=checkpoint_path,\n",
        "                                                 save_weights_only=True,\n",
        "                                                 verbose=1)\n",
        "\n",
        "#training the model\n",
        "model.fit(X_train, Y_train, batch_size=32, epochs=3, validation_split=0.2, callbacks=[cp_callback])\n"
      ],
      "metadata": {
        "id": "Chy37gnBhfD8",
        "colab": {
          "base_uri": "https://localhost:8080/"
        },
        "outputId": "d997eac7-b734-44ca-89d6-f5f7a517b9be"
      },
      "execution_count": 10,
      "outputs": [
        {
          "output_type": "stream",
          "name": "stdout",
          "text": [
            "Epoch 1/3\n",
            "1316/1316 [==============================] - ETA: 0s - loss: 0.1939 - accuracy: 0.9256\n",
            "Epoch 1: saving model to training_1/cp.ckpt\n",
            "1316/1316 [==============================] - 698s 525ms/step - loss: 0.1939 - accuracy: 0.9256 - val_loss: 0.1398 - val_accuracy: 0.9488\n",
            "Epoch 2/3\n",
            "1316/1316 [==============================] - ETA: 0s - loss: 0.1184 - accuracy: 0.9587\n",
            "Epoch 2: saving model to training_1/cp.ckpt\n",
            "1316/1316 [==============================] - 646s 491ms/step - loss: 0.1184 - accuracy: 0.9587 - val_loss: 0.1389 - val_accuracy: 0.9494\n",
            "Epoch 3/3\n",
            "1316/1316 [==============================] - ETA: 0s - loss: 0.0930 - accuracy: 0.9685\n",
            "Epoch 3: saving model to training_1/cp.ckpt\n",
            "1316/1316 [==============================] - 694s 527ms/step - loss: 0.0930 - accuracy: 0.9685 - val_loss: 0.1488 - val_accuracy: 0.9460\n"
          ]
        },
        {
          "output_type": "execute_result",
          "data": {
            "text/plain": [
              "<keras.callbacks.History at 0x7f5fac0fbbe0>"
            ]
          },
          "metadata": {},
          "execution_count": 10
        }
      ]
    },
    {
      "cell_type": "code",
      "source": [
        "!mkdir -p saved_model\n",
        "model.save('saved_model/my_model') "
      ],
      "metadata": {
        "colab": {
          "base_uri": "https://localhost:8080/"
        },
        "id": "OYyl1nf7kU69",
        "outputId": "f297813c-7b82-4974-e32e-19a916351f81"
      },
      "execution_count": 11,
      "outputs": [
        {
          "output_type": "stream",
          "name": "stderr",
          "text": [
            "WARNING:absl:Found untraced functions such as _update_step_xla, lstm_cell_1_layer_call_fn, lstm_cell_1_layer_call_and_return_conditional_losses, lstm_cell_2_layer_call_fn, lstm_cell_2_layer_call_and_return_conditional_losses while saving (showing 5 of 5). These functions will not be directly callable after loading.\n"
          ]
        }
      ]
    },
    {
      "cell_type": "code",
      "source": [
        "covmodel = tf.keras.models.load_model('saved_model/my_model')"
      ],
      "metadata": {
        "id": "-b_2uwmo1V2C"
      },
      "execution_count": 7,
      "outputs": []
    },
    {
      "cell_type": "code",
      "source": [
        "#predicting the category of a given sentence\n",
        "sentence = \"The government has announced a new policy to help businesses affected by the pandemic\"\n",
        "\n",
        "#tokenizing the sentence\n",
        "tokenizer = tf.keras.preprocessing.text.Tokenizer(num_words=5000)\n",
        "tokenizer.fit_on_texts(sentence)\n",
        "X = tokenizer.texts_to_sequences(sentence)\n",
        "X = pad_sequences(X, maxlen=100)\n",
        "\n",
        "#predicting the category\n",
        "prediction = covmodel.predict(X)\n",
        "if prediction[0][0] > prediction[0][1]:\n",
        "  print(\"Category: C\")\n",
        "else:\n",
        "  print(\"Category: H\")\n"
      ],
      "metadata": {
        "id": "WmKbz7GQkwV7",
        "colab": {
          "base_uri": "https://localhost:8080/"
        },
        "outputId": "5bbb0dad-67c0-4234-ce2c-33c22254d4cc"
      },
      "execution_count": 8,
      "outputs": [
        {
          "output_type": "stream",
          "name": "stdout",
          "text": [
            "3/3 [==============================] - 1s 85ms/step\n",
            "Category: C\n"
          ]
        }
      ]
    },
    {
      "cell_type": "code",
      "source": [
        "import matplotlib.pyplot as plt\n",
        "import numpy\n",
        "from sklearn import metrics\n",
        "\n",
        "#importing necessary libraries\n",
        "from sklearn.metrics import confusion_matrix, roc_curve, auc, f1_score\n",
        "\n",
        "#calculating confusion matrix\n",
        "y_pred = covmodel.predict(X_test)\n",
        "y_pred = np.argmax(y_pred, axis=1)\n",
        "y_true = np.argmax(Y_test, axis=1)\n",
        "confusion_matrix(y_true, y_pred)\n",
        "cm_display = metrics.ConfusionMatrixDisplay(confusion_matrix = confusion_matrix, display_labels = [False, True])\n"
      ],
      "metadata": {
        "id": "yFM7PNHClUzz",
        "colab": {
          "base_uri": "https://localhost:8080/"
        },
        "outputId": "21bddb6a-5c12-4aeb-f5ae-7ee6bd0fcb56"
      },
      "execution_count": 16,
      "outputs": [
        {
          "output_type": "stream",
          "name": "stdout",
          "text": [
            "412/412 [==============================] - 57s 137ms/step\n"
          ]
        }
      ]
    },
    {
      "cell_type": "code",
      "source": [
        "\n",
        "#importing necessary libraries\n",
        "import matplotlib.pyplot as plt\n",
        "import seaborn as sns\n",
        "\n",
        "#visualizing confusion matrix\n",
        "cm = confusion_matrix(y_true, y_pred)\n",
        "sns.heatmap(cm, annot=True, fmt='d', cmap='Blues')\n",
        "plt.title('Confusion Matrix')\n",
        "plt.xlabel('Predicted Label')\n",
        "plt.ylabel('True Label')\n",
        "plt.show()\n",
        "\n",
        "#visualizing ROC Curve\n",
        "plt.plot(fpr, tpr, label='ROC curve (area = %0.2f)' % roc_auc)\n",
        "plt.plot([0, 1], [0, 1], 'k--')\n",
        "plt.xlim([0.0, 1.0])\n",
        "plt.ylim([0.0, 1.05])\n",
        "plt.xlabel('False Positive Rate')\n",
        "plt.ylabel('True Positive Rate')\n",
        "plt.title('ROC Curve')\n",
        "plt.legend(loc=\"lower right\")\n",
        "plt.show()\n"
      ],
      "metadata": {
        "colab": {
          "base_uri": "https://localhost:8080/",
          "height": 573
        },
        "id": "bYzfDdZ42iCh",
        "outputId": "d01dc463-8a8e-4f3c-e9e2-e952370de4c4"
      },
      "execution_count": 18,
      "outputs": [
        {
          "output_type": "display_data",
          "data": {
            "text/plain": [
              "<Figure size 432x288 with 2 Axes>"
            ],
            "image/png": "[encoded data removed]"
          },
          "metadata": {
            "needs_background": "light"
          }
        },
        {
          "output_type": "display_data",
          "data": {
            "text/plain": [
              "<Figure size 432x288 with 1 Axes>"
            ],
            "image/png": "[encoded data removed]"
          },
          "metadata": {
            "needs_background": "light"
          }
        }
      ]
    },
    {
      "cell_type": "code",
      "source": [
        "#define metrics\n",
        "y_pred_proba = log_regression.predict_proba(X_test)[::,1]\n",
        "fpr, tpr, _ = metrics.roc_curve(y_test,  y_pred_proba)\n",
        "\n",
        "#create ROC curve\n",
        "plt.plot(fpr,tpr)\n",
        "plt.ylabel('True Positive Rate')\n",
        "plt.xlabel('False Positive Rate')\n",
        "plt.show()"
      ],
      "metadata": {
        "id": "QDB9YlEl3J5Y"
      },
      "execution_count": null,
      "outputs": []
    },
    {
      "cell_type": "code",
      "source": [
        "\n",
        "#calculating ROC Curve\n",
        "fpr, tpr, thresholds = roc_curve(y_true, y_pred)\n",
        "roc_auc = auc(fpr, tpr)\n",
        "\n",
        "#calculating F1 Score\n",
        "f1_score(y_true, y_pred)\n"
      ],
      "metadata": {
        "id": "t4ntxWbNlWvM",
        "colab": {
          "base_uri": "https://localhost:8080/"
        },
        "outputId": "2d83a2a0-f101-4436-b2a1-9e1095e1c920"
      },
      "execution_count": 14,
      "outputs": [
        {
          "output_type": "execute_result",
          "data": {
            "text/plain": [
              "0.9281249999999999"
            ]
          },
          "metadata": {},
          "execution_count": 14
        }
      ]
    },
    {
      "cell_type": "code",
      "source": [
        "#visualizing F1 Score\n",
        "plt.bar(['C', 'H'], f1_score(y_true, y_pred))\n",
        "plt.title('F1 Score')\n",
        "plt.xlabel('Category')\n",
        "plt.ylabel('Score')\n",
        "plt.show()"
      ],
      "metadata": {
        "colab": {
          "base_uri": "https://localhost:8080/",
          "height": 295
        },
        "id": "z4h3pjRX5Ntp",
        "outputId": "08aad4d0-b54f-4c82-987b-359f3c71627e"
      },
      "execution_count": 19,
      "outputs": [
        {
          "output_type": "display_data",
          "data": {
            "text/plain": [
              "<Figure size 432x288 with 1 Axes>"
            ],
            "image/png": "[encoded data removed]"
          },
          "metadata": {
            "needs_background": "light"
          }
        }
      ]
    }
  ]
}